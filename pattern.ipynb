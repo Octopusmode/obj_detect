{
 "cells": [
  {
   "cell_type": "code",
   "execution_count": 3,
   "metadata": {},
   "outputs": [],
   "source": [
    "GUI = 'web' # gui | web\n",
    "# cv\n",
    "import cv2\n",
    "import numpy as np\n",
    "\n",
    "# web\n",
    "from flask import Flask, render_template, Response\n",
    "\n",
    "# geometry\n",
    "from EasyROI import EasyROI\n",
    "from shapely.geometry import Polygon, Point\n",
    "\n",
    "#Opencv DNN\n",
    "net = cv2.dnn.readNet(r'dnn_model\\yolov4-tiny.weights', r'dnn_model\\yolov4-tiny.cfg')\n",
    "# net = cv2.dnn.readNet(r'dnn_model\\yolov7-tiny.weights', r'dnn_model\\yolov7-tiny.cfg')\n",
    "model = cv2.dnn_DetectionModel(net)\n",
    "model.setInputParams(size=(320,320), scale=1/255)\n",
    "\n",
    "# Load class lists\n",
    "classes = []\n",
    "with open(r'D:\\src\\obj_detect\\dnn_model\\classes.txt', 'r') as file_object:\n",
    "    for class_name in file_object.readlines():\n",
    "        class_name = class_name.strip()\n",
    "        classes.append(class_name)\n",
    "\n",
    "# Initialize camera\n",
    "cap = cv2.VideoCapture('video_park.mp4')\n",
    "cap.set(cv2.CAP_PROP_FRAME_WIDTH, 1920)\n",
    "cap.set(cv2.CAP_PROP_FRAME_HEIGHT, 1080)\n",
    "first = False\n",
    "\n",
    "if GUI == 'web':\n",
    "    web_app = Flask(__name__)"
   ]
  },
  {
   "cell_type": "code",
   "execution_count": 5,
   "metadata": {},
   "outputs": [],
   "source": [
    "def main():\n",
    "    while True:\n",
    "        ret, frame = cap.read()\n",
    "        frame_net = cv2.bilateralFilter(frame, 5, 20, 20)\n",
    "        \n",
    "        # if not first:\n",
    "        #     cv2.imshow('filter', frame_net)\n",
    "        #     first = True\n",
    "            \n",
    "        # Object detection\n",
    "        (class_ids, scores, bboxes) = model.detect(frame_net)\n",
    "        for class_id, score, bbox in zip(class_ids, scores, bboxes):\n",
    "                (x, y, w, h) = bbox\n",
    "                # print(x, y, w, h)\n",
    "                if score > 0.6:\n",
    "                    cv2.putText(frame, str(classes[class_id]), (x, y - 10), cv2.FONT_HERSHEY_COMPLEX_SMALL, 2, (200, 0, 50), 2)\n",
    "                    cv2.putText(frame, str(score), (x, y + 30), cv2.FONT_HERSHEY_COMPLEX_SMALL, 2, (0, 0, 200), 2)\n",
    "                    cv2.rectangle(frame, (x, y),(x+w, y + h), (200, 0, 0), 3)\n",
    "        \n",
    "        # print('class_ids', class_ids)\n",
    "        # print('score', scores)\n",
    "        # print('bboxes', bboxes)\n",
    "        \n",
    "        res_height = int(frame.shape[0] * 0.75)\n",
    "        res_width = int(frame.shape[1] * 0.75)\n",
    "        \n",
    "        resized = cv2.resize(frame, (res_width, res_height), interpolation= cv2.INTER_CUBIC)\n",
    "        \n",
    "    if GUI == 'gui':\n",
    "        cv2.imshow('Output', resized)\n",
    "        cv2.waitKey(1)\n",
    "    if GUI == 'web':\n",
    "        ret, frame = cv2.imencode('.jpg', frame)\n",
    "        frame_web = buffer.tobytes()\n",
    "        yield (b'--frame\\r\\n'\n",
    "            b'Content-Type: image/jpeg\\r\\n\\r\\n' + frame_web + b'\\r\\n')"
   ]
  },
  {
   "cell_type": "code",
   "execution_count": 6,
   "metadata": {},
   "outputs": [
    {
     "name": "stdout",
     "output_type": "stream",
     "text": [
      " * Serving Flask app '__main__'\n",
      " * Debug mode: on\n"
     ]
    },
    {
     "name": "stderr",
     "output_type": "stream",
     "text": [
      "WARNING: This is a development server. Do not use it in a production deployment. Use a production WSGI server instead.\n",
      " * Running on http://127.0.0.1:5000\n",
      "Press CTRL+C to quit\n",
      " * Restarting with stat\n"
     ]
    },
    {
     "ename": "SystemExit",
     "evalue": "1",
     "output_type": "error",
     "traceback": [
      "An exception has occurred, use %tb to see the full traceback.\n",
      "\u001b[1;31mSystemExit\u001b[0m\u001b[1;31m:\u001b[0m 1\n"
     ]
    },
    {
     "name": "stderr",
     "output_type": "stream",
     "text": [
      "d:\\src\\obj_detect\\env\\lib\\site-packages\\IPython\\core\\interactiveshell.py:3386: UserWarning: To exit: use 'exit', 'quit', or Ctrl-D.\n",
      "  warn(\"To exit: use 'exit', 'quit', or Ctrl-D.\", stacklevel=1)\n"
     ]
    }
   ],
   "source": [
    "@web_app.route('/video_feed')\n",
    "def video_feed():\n",
    "    return Response(main(), mimetype='multipart/x-mixed-replace; boundary=frame')\n",
    "\n",
    "\n",
    "@web_app.route('/')\n",
    "def index():\n",
    "    return render_template('index.html')\n",
    "\n",
    "if __name__ == '__main__':\n",
    "    # main()\n",
    "    web_app.run(debug=True)"
   ]
  }
 ],
 "metadata": {
  "kernelspec": {
   "display_name": "Python 3.10.7 ('env': venv)",
   "language": "python",
   "name": "python3"
  },
  "language_info": {
   "codemirror_mode": {
    "name": "ipython",
    "version": 3
   },
   "file_extension": ".py",
   "mimetype": "text/x-python",
   "name": "python",
   "nbconvert_exporter": "python",
   "pygments_lexer": "ipython3",
   "version": "3.10.7"
  },
  "orig_nbformat": 4,
  "vscode": {
   "interpreter": {
    "hash": "4df02a7b48a6fc4bd53c78e7e93ec59616e03a80d0213aeb3681689673d6d97e"
   }
  }
 },
 "nbformat": 4,
 "nbformat_minor": 2
}
